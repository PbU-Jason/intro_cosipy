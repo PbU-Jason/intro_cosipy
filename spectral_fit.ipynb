{
 "cells": [
  {
   "cell_type": "markdown",
   "id": "e0e3e94d-1326-4e56-93ae-53b5f27d283e",
   "metadata": {},
   "source": [
    "# Spectral fitting example"
   ]
  },
  {
   "cell_type": "markdown",
   "id": "ca8f65d2-a810-4460-8d79-2164d93abfa1",
   "metadata": {},
   "source": [
    "The goal of this notebook is to get familiar with 3ML and get a concrete idea on the spectral fitting will work. \n",
    "\n",
    "[3ML](https://threeml.readthedocs.io/) is a high-level interface that allows multiple dataset form different instruments to be used coherently to fit the parameters of source model. A source model typically consists on a list of sources with a parametrized spectral shapes, sky locations and, for extended sources, shape. Polarization is also possible. A \"coherent\" analysis, in this context, means that the source model parameters are fitted using all available datasets simultanously, rather than performing individual fits and finding a well-suited common model a posteriori. \n",
    "\n",
    "In order for a dataset to be included in 3ML, each instrument needs to provide a \"plugin\". Each plugin is responsible for reading the data, convolving the source model (provided by 3ML) with the instrument response, and returning a likelihood. In our case, we'll compute a binned Poisson likelihood:\n",
    "\n",
    "$$\n",
    "\\log \\mathcal{L}(\\mathbf{x}) = \\sum_i \\log \\frac{\\lambda_i(\\mathbf{x})^{d_i} \\exp (-\\lambda_i)}{d_i!}\n",
    "$$\n",
    "\n",
    "where $d_i$ are the counts on each bin and $\\lambda_i$ are the _expected_ counts, given a source model with parameters $\\mathbf{x}$. \n",
    "\n",
    "In this example, we will fit a single point source with a known location. We'll assume the background is known and fixed. Finally, we will fit a power law:\n",
    "\n",
    "$$\n",
    "F(E) = K \\left(\\frac{E}{E_{piv}}\\right)^{-index}\n",
    "$$\n",
    "\n",
    "\n",
    "where $K$ (normalization) and the spectral index are the only free parameters, while $E_{piv}$ is the pivot energy which is fixed (and arbitrary).\n",
    "\n",
    "Considering these assumptions:\n",
    "\n",
    "$$\n",
    "\\lambda_i(\\mathbf{x}) = b_i + s_i(\\mathbf{x}) = b_i + s_i(\\mathrm{norm}, \\mathrm{index})\n",
    "$$\n",
    "\n",
    "where $b_i$ are the estimated counts due to background on each bin, and $s_i$ are the corresponding expected counts from the source.\n",
    "\n",
    "The goal is then to find the values of $\\mathbf{x} = [\\mathrm{norm}, \\mathrm{index}]$ that maximize $\\mathcal{L}$. These are the best estimation of the parameters.\n",
    "\n",
    "The final module needs to also fit the background, handle multiple point-like and extended sources, as well as all the spectral models supported by 3ML. Eventually, it will also fit the polarization angle. However, this simple example already contains all the necessary pieces to do a fit."
   ]
  },
  {
   "cell_type": "markdown",
   "id": "875c8265-d433-45e2-aec5-a7bd05d3ebc8",
   "metadata": {},
   "source": [
    "## Dependecies"
   ]
  },
  {
   "cell_type": "code",
   "execution_count": 1,
   "id": "b752bb99-e7f8-4ecd-90ee-8002a242e0f8",
   "metadata": {},
   "outputs": [
    {
     "data": {
      "text/html": [
       "<pre style=\"white-space:pre;overflow-x:auto;line-height:normal;font-family:Menlo,'DejaVu Sans Mono',consolas,'Courier New',monospace\"><span style=\"color: #00ff00; text-decoration-color: #00ff00\">22:59:21 </span><span style=\"color: #af5fd7; text-decoration-color: #af5fd7\">WARNING </span> <span style=\"color: #c6c6c6; text-decoration-color: #c6c6c6; font-weight: bold\"> The naima package is not available. Models that depend on it will not be         </span><a href=\"file:///Users/imartin5/software/astromodels/astromodels/functions/functions_1D/functions.py\" target=\"_blank\"><span style=\"color: #7f7f7f; text-decoration-color: #7f7f7f\">functions.py</span></a><span style=\"color: #7f7f7f; text-decoration-color: #7f7f7f\">:</span><a href=\"file:///Users/imartin5/software/astromodels/astromodels/functions/functions_1D/functions.py#48\" target=\"_blank\"><span style=\"color: #7f7f7f; text-decoration-color: #7f7f7f\">48</span></a>\n",
       "<span style=\"color: #00ff00; text-decoration-color: #00ff00\">         </span>         <span style=\"color: #c6c6c6; text-decoration-color: #c6c6c6; font-weight: bold\">available                                                                         </span><span style=\"color: #7f7f7f; text-decoration-color: #7f7f7f\">               </span>\n",
       "</pre>\n"
      ],
      "text/plain": [
       "\u001b[38;5;46m22:59:21\u001b[0m\u001b[38;5;46m \u001b[0m\u001b[38;5;134mWARNING \u001b[0m \u001b[1;38;5;251m The naima package is not available. Models that depend on it will not be        \u001b[0m\u001b[1;38;5;251m \u001b[0m\u001b]8;id=40435;file:///Users/imartin5/software/astromodels/astromodels/functions/functions_1D/functions.py\u001b\\\u001b[2mfunctions.py\u001b[0m\u001b]8;;\u001b\\\u001b[2m:\u001b[0m\u001b]8;id=550116;file:///Users/imartin5/software/astromodels/astromodels/functions/functions_1D/functions.py#48\u001b\\\u001b[2m48\u001b[0m\u001b]8;;\u001b\\\n",
       "\u001b[38;5;46m         \u001b[0m         \u001b[1;38;5;251mavailable                                                                        \u001b[0m\u001b[1;38;5;251m \u001b[0m\u001b[2m               \u001b[0m\n"
      ]
     },
     "metadata": {},
     "output_type": "display_data"
    },
    {
     "data": {
      "text/html": [
       "<pre style=\"white-space:pre;overflow-x:auto;line-height:normal;font-family:Menlo,'DejaVu Sans Mono',consolas,'Courier New',monospace\"><span style=\"color: #00ff00; text-decoration-color: #00ff00\">         </span><span style=\"color: #af5fd7; text-decoration-color: #af5fd7\">WARNING </span> <span style=\"color: #c6c6c6; text-decoration-color: #c6c6c6; font-weight: bold\"> The GSL library or the pygsl wrapper cannot be loaded. Models that depend on it  </span><a href=\"file:///Users/imartin5/software/astromodels/astromodels/functions/functions_1D/functions.py\" target=\"_blank\"><span style=\"color: #7f7f7f; text-decoration-color: #7f7f7f\">functions.py</span></a><span style=\"color: #7f7f7f; text-decoration-color: #7f7f7f\">:</span><a href=\"file:///Users/imartin5/software/astromodels/astromodels/functions/functions_1D/functions.py#69\" target=\"_blank\"><span style=\"color: #7f7f7f; text-decoration-color: #7f7f7f\">69</span></a>\n",
       "<span style=\"color: #00ff00; text-decoration-color: #00ff00\">         </span>         <span style=\"color: #c6c6c6; text-decoration-color: #c6c6c6; font-weight: bold\">will not be available.                                                            </span><span style=\"color: #7f7f7f; text-decoration-color: #7f7f7f\">               </span>\n",
       "</pre>\n"
      ],
      "text/plain": [
       "\u001b[38;5;46m        \u001b[0m\u001b[38;5;46m \u001b[0m\u001b[38;5;134mWARNING \u001b[0m \u001b[1;38;5;251m The GSL library or the pygsl wrapper cannot be loaded. Models that depend on it \u001b[0m\u001b[1;38;5;251m \u001b[0m\u001b]8;id=503745;file:///Users/imartin5/software/astromodels/astromodels/functions/functions_1D/functions.py\u001b\\\u001b[2mfunctions.py\u001b[0m\u001b]8;;\u001b\\\u001b[2m:\u001b[0m\u001b]8;id=978411;file:///Users/imartin5/software/astromodels/astromodels/functions/functions_1D/functions.py#69\u001b\\\u001b[2m69\u001b[0m\u001b]8;;\u001b\\\n",
       "\u001b[38;5;46m         \u001b[0m         \u001b[1;38;5;251mwill not be available.                                                           \u001b[0m\u001b[1;38;5;251m \u001b[0m\u001b[2m               \u001b[0m\n"
      ]
     },
     "metadata": {},
     "output_type": "display_data"
    },
    {
     "data": {
      "text/html": [
       "<pre style=\"white-space:pre;overflow-x:auto;line-height:normal;font-family:Menlo,'DejaVu Sans Mono',consolas,'Courier New',monospace\"><span style=\"color: #00ff00; text-decoration-color: #00ff00\">22:59:22 </span><span style=\"color: #af5fd7; text-decoration-color: #af5fd7\">WARNING </span> <span style=\"color: #c6c6c6; text-decoration-color: #c6c6c6; font-weight: bold\"> The ebltable package is not available. Models that depend on it will not be     </span><a href=\"file:///Users/imartin5/software/astromodels/astromodels/functions/functions_1D/absorption.py\" target=\"_blank\"><span style=\"color: #7f7f7f; text-decoration-color: #7f7f7f\">absorption.py</span></a><span style=\"color: #7f7f7f; text-decoration-color: #7f7f7f\">:</span><a href=\"file:///Users/imartin5/software/astromodels/astromodels/functions/functions_1D/absorption.py#33\" target=\"_blank\"><span style=\"color: #7f7f7f; text-decoration-color: #7f7f7f\">33</span></a>\n",
       "<span style=\"color: #00ff00; text-decoration-color: #00ff00\">         </span>         <span style=\"color: #c6c6c6; text-decoration-color: #c6c6c6; font-weight: bold\">available                                                                        </span><span style=\"color: #7f7f7f; text-decoration-color: #7f7f7f\">                </span>\n",
       "</pre>\n"
      ],
      "text/plain": [
       "\u001b[38;5;46m22:59:22\u001b[0m\u001b[38;5;46m \u001b[0m\u001b[38;5;134mWARNING \u001b[0m \u001b[1;38;5;251m The ebltable package is not available. Models that depend on it will not be    \u001b[0m\u001b[1;38;5;251m \u001b[0m\u001b]8;id=991104;file:///Users/imartin5/software/astromodels/astromodels/functions/functions_1D/absorption.py\u001b\\\u001b[2mabsorption.py\u001b[0m\u001b]8;;\u001b\\\u001b[2m:\u001b[0m\u001b]8;id=494688;file:///Users/imartin5/software/astromodels/astromodels/functions/functions_1D/absorption.py#33\u001b\\\u001b[2m33\u001b[0m\u001b]8;;\u001b\\\n",
       "\u001b[38;5;46m         \u001b[0m         \u001b[1;38;5;251mavailable                                                                       \u001b[0m\u001b[1;38;5;251m \u001b[0m\u001b[2m                \u001b[0m\n"
      ]
     },
     "metadata": {},
     "output_type": "display_data"
    },
    {
     "data": {
      "text/html": [
       "<pre style=\"white-space:pre;overflow-x:auto;line-height:normal;font-family:Menlo,'DejaVu Sans Mono',consolas,'Courier New',monospace\"><span style=\"color: #00ff00; text-decoration-color: #00ff00\">22:59:22 </span><span style=\"color: #00ffaf; text-decoration-color: #00ffaf\">INFO    </span> <span style=\"color: #c6c6c6; text-decoration-color: #c6c6c6; font-weight: bold\"> Starting 3ML!                                                                     </span><a href=\"file:///Users/imartin5/software/threeML/threeML/__init__.py\" target=\"_blank\"><span style=\"color: #7f7f7f; text-decoration-color: #7f7f7f\">__init__.py</span></a><span style=\"color: #7f7f7f; text-decoration-color: #7f7f7f\">:</span><a href=\"file:///Users/imartin5/software/threeML/threeML/__init__.py#35\" target=\"_blank\"><span style=\"color: #7f7f7f; text-decoration-color: #7f7f7f\">35</span></a>\n",
       "</pre>\n"
      ],
      "text/plain": [
       "\u001b[38;5;46m22:59:22\u001b[0m\u001b[38;5;46m \u001b[0m\u001b[38;5;49mINFO    \u001b[0m \u001b[1;38;5;251m Starting 3ML!                                                                    \u001b[0m\u001b[1;38;5;251m \u001b[0m\u001b]8;id=469461;file:///Users/imartin5/software/threeML/threeML/__init__.py\u001b\\\u001b[2m__init__.py\u001b[0m\u001b]8;;\u001b\\\u001b[2m:\u001b[0m\u001b]8;id=811449;file:///Users/imartin5/software/threeML/threeML/__init__.py#35\u001b\\\u001b[2m35\u001b[0m\u001b]8;;\u001b\\\n"
      ]
     },
     "metadata": {},
     "output_type": "display_data"
    },
    {
     "data": {
      "text/html": [
       "<pre style=\"white-space:pre;overflow-x:auto;line-height:normal;font-family:Menlo,'DejaVu Sans Mono',consolas,'Courier New',monospace\"><span style=\"color: #00ff00; text-decoration-color: #00ff00\">         </span><span style=\"color: #af5fd7; text-decoration-color: #af5fd7\">WARNING </span> <span style=\"color: #c6c6c6; text-decoration-color: #c6c6c6; font-weight: bold\"> WARNINGs here are </span><span style=\"color: #800000; text-decoration-color: #800000; font-weight: bold\">NOT</span><span style=\"color: #c6c6c6; text-decoration-color: #c6c6c6; font-weight: bold\"> errors                                                      </span><a href=\"file:///Users/imartin5/software/threeML/threeML/__init__.py\" target=\"_blank\"><span style=\"color: #7f7f7f; text-decoration-color: #7f7f7f\">__init__.py</span></a><span style=\"color: #7f7f7f; text-decoration-color: #7f7f7f\">:</span><a href=\"file:///Users/imartin5/software/threeML/threeML/__init__.py#36\" target=\"_blank\"><span style=\"color: #7f7f7f; text-decoration-color: #7f7f7f\">36</span></a>\n",
       "</pre>\n"
      ],
      "text/plain": [
       "\u001b[38;5;46m        \u001b[0m\u001b[38;5;46m \u001b[0m\u001b[38;5;134mWARNING \u001b[0m \u001b[1;38;5;251m WARNINGs here are \u001b[0m\u001b[1;31mNOT\u001b[0m\u001b[1;38;5;251m errors                                                     \u001b[0m\u001b[1;38;5;251m \u001b[0m\u001b]8;id=619157;file:///Users/imartin5/software/threeML/threeML/__init__.py\u001b\\\u001b[2m__init__.py\u001b[0m\u001b]8;;\u001b\\\u001b[2m:\u001b[0m\u001b]8;id=572989;file:///Users/imartin5/software/threeML/threeML/__init__.py#36\u001b\\\u001b[2m36\u001b[0m\u001b]8;;\u001b\\\n"
      ]
     },
     "metadata": {},
     "output_type": "display_data"
    },
    {
     "data": {
      "text/html": [
       "<pre style=\"white-space:pre;overflow-x:auto;line-height:normal;font-family:Menlo,'DejaVu Sans Mono',consolas,'Courier New',monospace\"><span style=\"color: #00ff00; text-decoration-color: #00ff00\">         </span><span style=\"color: #af5fd7; text-decoration-color: #af5fd7\">WARNING </span> <span style=\"color: #c6c6c6; text-decoration-color: #c6c6c6; font-weight: bold\"> but are inform you about optional packages that can be installed                  </span><a href=\"file:///Users/imartin5/software/threeML/threeML/__init__.py\" target=\"_blank\"><span style=\"color: #7f7f7f; text-decoration-color: #7f7f7f\">__init__.py</span></a><span style=\"color: #7f7f7f; text-decoration-color: #7f7f7f\">:</span><a href=\"file:///Users/imartin5/software/threeML/threeML/__init__.py#37\" target=\"_blank\"><span style=\"color: #7f7f7f; text-decoration-color: #7f7f7f\">37</span></a>\n",
       "</pre>\n"
      ],
      "text/plain": [
       "\u001b[38;5;46m        \u001b[0m\u001b[38;5;46m \u001b[0m\u001b[38;5;134mWARNING \u001b[0m \u001b[1;38;5;251m but are inform you about optional packages that can be installed                 \u001b[0m\u001b[1;38;5;251m \u001b[0m\u001b]8;id=997046;file:///Users/imartin5/software/threeML/threeML/__init__.py\u001b\\\u001b[2m__init__.py\u001b[0m\u001b]8;;\u001b\\\u001b[2m:\u001b[0m\u001b]8;id=106306;file:///Users/imartin5/software/threeML/threeML/__init__.py#37\u001b\\\u001b[2m37\u001b[0m\u001b]8;;\u001b\\\n"
      ]
     },
     "metadata": {},
     "output_type": "display_data"
    },
    {
     "data": {
      "text/html": [
       "<pre style=\"white-space:pre;overflow-x:auto;line-height:normal;font-family:Menlo,'DejaVu Sans Mono',consolas,'Courier New',monospace\"><span style=\"color: #00ff00; text-decoration-color: #00ff00\">         </span><span style=\"color: #af5fd7; text-decoration-color: #af5fd7\">WARNING </span> <span style=\"color: #c6c6c6; text-decoration-color: #c6c6c6; font-weight: bold\"> </span><span style=\"color: #800000; text-decoration-color: #800000; font-weight: bold\"> to disable these messages, turn off start_warning in your config file</span><span style=\"color: #c6c6c6; text-decoration-color: #c6c6c6; font-weight: bold\">            </span><a href=\"file:///Users/imartin5/software/threeML/threeML/__init__.py\" target=\"_blank\"><span style=\"color: #7f7f7f; text-decoration-color: #7f7f7f\">__init__.py</span></a><span style=\"color: #7f7f7f; text-decoration-color: #7f7f7f\">:</span><a href=\"file:///Users/imartin5/software/threeML/threeML/__init__.py#40\" target=\"_blank\"><span style=\"color: #7f7f7f; text-decoration-color: #7f7f7f\">40</span></a>\n",
       "</pre>\n"
      ],
      "text/plain": [
       "\u001b[38;5;46m        \u001b[0m\u001b[38;5;46m \u001b[0m\u001b[38;5;134mWARNING \u001b[0m \u001b[1;38;5;251m \u001b[0m\u001b[1;31m to disable these messages, turn off start_warning in your config file\u001b[0m\u001b[1;38;5;251m           \u001b[0m\u001b[1;38;5;251m \u001b[0m\u001b]8;id=932326;file:///Users/imartin5/software/threeML/threeML/__init__.py\u001b\\\u001b[2m__init__.py\u001b[0m\u001b]8;;\u001b\\\u001b[2m:\u001b[0m\u001b]8;id=694904;file:///Users/imartin5/software/threeML/threeML/__init__.py#40\u001b\\\u001b[2m40\u001b[0m\u001b]8;;\u001b\\\n"
      ]
     },
     "metadata": {},
     "output_type": "display_data"
    },
    {
     "data": {
      "text/html": [
       "<pre style=\"white-space:pre;overflow-x:auto;line-height:normal;font-family:Menlo,'DejaVu Sans Mono',consolas,'Courier New',monospace\"><span style=\"color: #00ff00; text-decoration-color: #00ff00\">22:59:23 </span><span style=\"color: #af5fd7; text-decoration-color: #af5fd7\">WARNING </span> <span style=\"color: #c6c6c6; text-decoration-color: #c6c6c6; font-weight: bold\"> ROOT minimizer not available                                                </span><a href=\"file:///Users/imartin5/software/threeML/threeML/minimizer/minimization.py\" target=\"_blank\"><span style=\"color: #7f7f7f; text-decoration-color: #7f7f7f\">minimization.py</span></a><span style=\"color: #7f7f7f; text-decoration-color: #7f7f7f\">:</span><a href=\"file:///Users/imartin5/software/threeML/threeML/minimizer/minimization.py#1345\" target=\"_blank\"><span style=\"color: #7f7f7f; text-decoration-color: #7f7f7f\">1345</span></a>\n",
       "</pre>\n"
      ],
      "text/plain": [
       "\u001b[38;5;46m22:59:23\u001b[0m\u001b[38;5;46m \u001b[0m\u001b[38;5;134mWARNING \u001b[0m \u001b[1;38;5;251m ROOT minimizer not available                                               \u001b[0m\u001b[1;38;5;251m \u001b[0m\u001b]8;id=954028;file:///Users/imartin5/software/threeML/threeML/minimizer/minimization.py\u001b\\\u001b[2mminimization.py\u001b[0m\u001b]8;;\u001b\\\u001b[2m:\u001b[0m\u001b]8;id=231373;file:///Users/imartin5/software/threeML/threeML/minimizer/minimization.py#1345\u001b\\\u001b[2m1345\u001b[0m\u001b]8;;\u001b\\\n"
      ]
     },
     "metadata": {},
     "output_type": "display_data"
    },
    {
     "data": {
      "text/html": [
       "<pre style=\"white-space:pre;overflow-x:auto;line-height:normal;font-family:Menlo,'DejaVu Sans Mono',consolas,'Courier New',monospace\"><span style=\"color: #00ff00; text-decoration-color: #00ff00\">         </span><span style=\"color: #af5fd7; text-decoration-color: #af5fd7\">WARNING </span> <span style=\"color: #c6c6c6; text-decoration-color: #c6c6c6; font-weight: bold\"> Multinest minimizer not available                                           </span><a href=\"file:///Users/imartin5/software/threeML/threeML/minimizer/minimization.py\" target=\"_blank\"><span style=\"color: #7f7f7f; text-decoration-color: #7f7f7f\">minimization.py</span></a><span style=\"color: #7f7f7f; text-decoration-color: #7f7f7f\">:</span><a href=\"file:///Users/imartin5/software/threeML/threeML/minimizer/minimization.py#1357\" target=\"_blank\"><span style=\"color: #7f7f7f; text-decoration-color: #7f7f7f\">1357</span></a>\n",
       "</pre>\n"
      ],
      "text/plain": [
       "\u001b[38;5;46m        \u001b[0m\u001b[38;5;46m \u001b[0m\u001b[38;5;134mWARNING \u001b[0m \u001b[1;38;5;251m Multinest minimizer not available                                          \u001b[0m\u001b[1;38;5;251m \u001b[0m\u001b]8;id=756122;file:///Users/imartin5/software/threeML/threeML/minimizer/minimization.py\u001b\\\u001b[2mminimization.py\u001b[0m\u001b]8;;\u001b\\\u001b[2m:\u001b[0m\u001b]8;id=303465;file:///Users/imartin5/software/threeML/threeML/minimizer/minimization.py#1357\u001b\\\u001b[2m1357\u001b[0m\u001b]8;;\u001b\\\n"
      ]
     },
     "metadata": {},
     "output_type": "display_data"
    },
    {
     "data": {
      "text/html": [
       "<pre style=\"white-space:pre;overflow-x:auto;line-height:normal;font-family:Menlo,'DejaVu Sans Mono',consolas,'Courier New',monospace\"><span style=\"color: #00ff00; text-decoration-color: #00ff00\">         </span><span style=\"color: #af5fd7; text-decoration-color: #af5fd7\">WARNING </span> <span style=\"color: #c6c6c6; text-decoration-color: #c6c6c6; font-weight: bold\"> PyGMO is not available                                                      </span><a href=\"file:///Users/imartin5/software/threeML/threeML/minimizer/minimization.py\" target=\"_blank\"><span style=\"color: #7f7f7f; text-decoration-color: #7f7f7f\">minimization.py</span></a><span style=\"color: #7f7f7f; text-decoration-color: #7f7f7f\">:</span><a href=\"file:///Users/imartin5/software/threeML/threeML/minimizer/minimization.py#1369\" target=\"_blank\"><span style=\"color: #7f7f7f; text-decoration-color: #7f7f7f\">1369</span></a>\n",
       "</pre>\n"
      ],
      "text/plain": [
       "\u001b[38;5;46m        \u001b[0m\u001b[38;5;46m \u001b[0m\u001b[38;5;134mWARNING \u001b[0m \u001b[1;38;5;251m PyGMO is not available                                                     \u001b[0m\u001b[1;38;5;251m \u001b[0m\u001b]8;id=580486;file:///Users/imartin5/software/threeML/threeML/minimizer/minimization.py\u001b\\\u001b[2mminimization.py\u001b[0m\u001b]8;;\u001b\\\u001b[2m:\u001b[0m\u001b]8;id=727381;file:///Users/imartin5/software/threeML/threeML/minimizer/minimization.py#1369\u001b\\\u001b[2m1369\u001b[0m\u001b]8;;\u001b\\\n"
      ]
     },
     "metadata": {},
     "output_type": "display_data"
    },
    {
     "data": {
      "text/html": [
       "<pre style=\"white-space:pre;overflow-x:auto;line-height:normal;font-family:Menlo,'DejaVu Sans Mono',consolas,'Courier New',monospace\"><span style=\"color: #00ff00; text-decoration-color: #00ff00\">22:59:23 </span><span style=\"color: #af5fd7; text-decoration-color: #af5fd7\">WARNING </span> <span style=\"color: #c6c6c6; text-decoration-color: #c6c6c6; font-weight: bold\"> The cthreeML package is not installed. You will not be able to use plugins which  </span><a href=\"file:///Users/imartin5/software/threeML/threeML/__init__.py\" target=\"_blank\"><span style=\"color: #7f7f7f; text-decoration-color: #7f7f7f\">__init__.py</span></a><span style=\"color: #7f7f7f; text-decoration-color: #7f7f7f\">:</span><a href=\"file:///Users/imartin5/software/threeML/threeML/__init__.py#94\" target=\"_blank\"><span style=\"color: #7f7f7f; text-decoration-color: #7f7f7f\">94</span></a>\n",
       "<span style=\"color: #00ff00; text-decoration-color: #00ff00\">         </span>         <span style=\"color: #c6c6c6; text-decoration-color: #c6c6c6; font-weight: bold\">require the C/C++ interface (currently HAWC)                                       </span><span style=\"color: #7f7f7f; text-decoration-color: #7f7f7f\">              </span>\n",
       "</pre>\n"
      ],
      "text/plain": [
       "\u001b[38;5;46m22:59:23\u001b[0m\u001b[38;5;46m \u001b[0m\u001b[38;5;134mWARNING \u001b[0m \u001b[1;38;5;251m The cthreeML package is not installed. You will not be able to use plugins which \u001b[0m\u001b[1;38;5;251m \u001b[0m\u001b]8;id=943423;file:///Users/imartin5/software/threeML/threeML/__init__.py\u001b\\\u001b[2m__init__.py\u001b[0m\u001b]8;;\u001b\\\u001b[2m:\u001b[0m\u001b]8;id=990345;file:///Users/imartin5/software/threeML/threeML/__init__.py#94\u001b\\\u001b[2m94\u001b[0m\u001b]8;;\u001b\\\n",
       "\u001b[38;5;46m         \u001b[0m         \u001b[1;38;5;251mrequire the C/C++ interface \u001b[0m\u001b[1;38;5;251m(\u001b[0m\u001b[1;38;5;251mcurrently HAWC\u001b[0m\u001b[1;38;5;251m)\u001b[0m\u001b[1;38;5;251m                                      \u001b[0m\u001b[1;38;5;251m \u001b[0m\u001b[2m              \u001b[0m\n"
      ]
     },
     "metadata": {},
     "output_type": "display_data"
    },
    {
     "data": {
      "text/html": [
       "<pre style=\"white-space:pre;overflow-x:auto;line-height:normal;font-family:Menlo,'DejaVu Sans Mono',consolas,'Courier New',monospace\"><span style=\"color: #00ff00; text-decoration-color: #00ff00\">         </span><span style=\"color: #af5fd7; text-decoration-color: #af5fd7\">WARNING </span> <span style=\"color: #c6c6c6; text-decoration-color: #c6c6c6; font-weight: bold\"> Could not import plugin HAWCLike.py. Do you have the relative instrument         </span><a href=\"file:///Users/imartin5/software/threeML/threeML/__init__.py\" target=\"_blank\"><span style=\"color: #7f7f7f; text-decoration-color: #7f7f7f\">__init__.py</span></a><span style=\"color: #7f7f7f; text-decoration-color: #7f7f7f\">:</span><a href=\"file:///Users/imartin5/software/threeML/threeML/__init__.py#144\" target=\"_blank\"><span style=\"color: #7f7f7f; text-decoration-color: #7f7f7f\">144</span></a>\n",
       "<span style=\"color: #00ff00; text-decoration-color: #00ff00\">         </span>         <span style=\"color: #c6c6c6; text-decoration-color: #c6c6c6; font-weight: bold\">software installed and configured?                                                </span><span style=\"color: #7f7f7f; text-decoration-color: #7f7f7f\">               </span>\n",
       "</pre>\n"
      ],
      "text/plain": [
       "\u001b[38;5;46m        \u001b[0m\u001b[38;5;46m \u001b[0m\u001b[38;5;134mWARNING \u001b[0m \u001b[1;38;5;251m Could not import plugin HAWCLike.py. Do you have the relative instrument        \u001b[0m\u001b[1;38;5;251m \u001b[0m\u001b]8;id=45204;file:///Users/imartin5/software/threeML/threeML/__init__.py\u001b\\\u001b[2m__init__.py\u001b[0m\u001b]8;;\u001b\\\u001b[2m:\u001b[0m\u001b]8;id=272256;file:///Users/imartin5/software/threeML/threeML/__init__.py#144\u001b\\\u001b[2m144\u001b[0m\u001b]8;;\u001b\\\n",
       "\u001b[38;5;46m         \u001b[0m         \u001b[1;38;5;251msoftware installed and configured?                                               \u001b[0m\u001b[1;38;5;251m \u001b[0m\u001b[2m               \u001b[0m\n"
      ]
     },
     "metadata": {},
     "output_type": "display_data"
    },
    {
     "data": {
      "text/html": [
       "<pre style=\"white-space:pre;overflow-x:auto;line-height:normal;font-family:Menlo,'DejaVu Sans Mono',consolas,'Courier New',monospace\"><span style=\"color: #00ff00; text-decoration-color: #00ff00\">         </span><span style=\"color: #af5fd7; text-decoration-color: #af5fd7\">WARNING </span> <span style=\"color: #c6c6c6; text-decoration-color: #c6c6c6; font-weight: bold\"> Could not import plugin FermiLATLike.py. Do you have the relative instrument     </span><a href=\"file:///Users/imartin5/software/threeML/threeML/__init__.py\" target=\"_blank\"><span style=\"color: #7f7f7f; text-decoration-color: #7f7f7f\">__init__.py</span></a><span style=\"color: #7f7f7f; text-decoration-color: #7f7f7f\">:</span><a href=\"file:///Users/imartin5/software/threeML/threeML/__init__.py#144\" target=\"_blank\"><span style=\"color: #7f7f7f; text-decoration-color: #7f7f7f\">144</span></a>\n",
       "<span style=\"color: #00ff00; text-decoration-color: #00ff00\">         </span>         <span style=\"color: #c6c6c6; text-decoration-color: #c6c6c6; font-weight: bold\">software installed and configured?                                                </span><span style=\"color: #7f7f7f; text-decoration-color: #7f7f7f\">               </span>\n",
       "</pre>\n"
      ],
      "text/plain": [
       "\u001b[38;5;46m        \u001b[0m\u001b[38;5;46m \u001b[0m\u001b[38;5;134mWARNING \u001b[0m \u001b[1;38;5;251m Could not import plugin FermiLATLike.py. Do you have the relative instrument    \u001b[0m\u001b[1;38;5;251m \u001b[0m\u001b]8;id=478472;file:///Users/imartin5/software/threeML/threeML/__init__.py\u001b\\\u001b[2m__init__.py\u001b[0m\u001b]8;;\u001b\\\u001b[2m:\u001b[0m\u001b]8;id=144205;file:///Users/imartin5/software/threeML/threeML/__init__.py#144\u001b\\\u001b[2m144\u001b[0m\u001b]8;;\u001b\\\n",
       "\u001b[38;5;46m         \u001b[0m         \u001b[1;38;5;251msoftware installed and configured?                                               \u001b[0m\u001b[1;38;5;251m \u001b[0m\u001b[2m               \u001b[0m\n"
      ]
     },
     "metadata": {},
     "output_type": "display_data"
    },
    {
     "data": {
      "text/html": [
       "<pre style=\"white-space:pre;overflow-x:auto;line-height:normal;font-family:Menlo,'DejaVu Sans Mono',consolas,'Courier New',monospace\"><span style=\"color: #00ff00; text-decoration-color: #00ff00\">         </span><span style=\"color: #af5fd7; text-decoration-color: #af5fd7\">WARNING </span> <span style=\"color: #c6c6c6; text-decoration-color: #c6c6c6; font-weight: bold\"> No fermitools installed                                              </span><a href=\"file:///Users/imartin5/software/threeML/threeML/utils/data_builders/fermi/lat_transient_builder.py\" target=\"_blank\"><span style=\"color: #7f7f7f; text-decoration-color: #7f7f7f\">lat_transient_builder.py</span></a><span style=\"color: #7f7f7f; text-decoration-color: #7f7f7f\">:</span><a href=\"file:///Users/imartin5/software/threeML/threeML/utils/data_builders/fermi/lat_transient_builder.py#44\" target=\"_blank\"><span style=\"color: #7f7f7f; text-decoration-color: #7f7f7f\">44</span></a>\n",
       "</pre>\n"
      ],
      "text/plain": [
       "\u001b[38;5;46m        \u001b[0m\u001b[38;5;46m \u001b[0m\u001b[38;5;134mWARNING \u001b[0m \u001b[1;38;5;251m No fermitools installed                                             \u001b[0m\u001b[1;38;5;251m \u001b[0m\u001b]8;id=668468;file:///Users/imartin5/software/threeML/threeML/utils/data_builders/fermi/lat_transient_builder.py\u001b\\\u001b[2mlat_transient_builder.py\u001b[0m\u001b]8;;\u001b\\\u001b[2m:\u001b[0m\u001b]8;id=213907;file:///Users/imartin5/software/threeML/threeML/utils/data_builders/fermi/lat_transient_builder.py#44\u001b\\\u001b[2m44\u001b[0m\u001b]8;;\u001b\\\n"
      ]
     },
     "metadata": {},
     "output_type": "display_data"
    },
    {
     "data": {
      "text/html": [
       "<pre style=\"white-space:pre;overflow-x:auto;line-height:normal;font-family:Menlo,'DejaVu Sans Mono',consolas,'Courier New',monospace\"><span style=\"color: #00ff00; text-decoration-color: #00ff00\">         </span><span style=\"color: #af5fd7; text-decoration-color: #af5fd7\">WARNING </span> <span style=\"color: #c6c6c6; text-decoration-color: #c6c6c6; font-weight: bold\"> Env. variable OMP_NUM_THREADS is not set. Please set it to </span><span style=\"color: #c0c0c0; text-decoration-color: #c0c0c0; font-weight: bold\">1</span><span style=\"color: #c6c6c6; text-decoration-color: #c6c6c6; font-weight: bold\"> for optimal         </span><a href=\"file:///Users/imartin5/software/threeML/threeML/__init__.py\" target=\"_blank\"><span style=\"color: #7f7f7f; text-decoration-color: #7f7f7f\">__init__.py</span></a><span style=\"color: #7f7f7f; text-decoration-color: #7f7f7f\">:</span><a href=\"file:///Users/imartin5/software/threeML/threeML/__init__.py#387\" target=\"_blank\"><span style=\"color: #7f7f7f; text-decoration-color: #7f7f7f\">387</span></a>\n",
       "<span style=\"color: #00ff00; text-decoration-color: #00ff00\">         </span>         <span style=\"color: #c6c6c6; text-decoration-color: #c6c6c6; font-weight: bold\">performances in 3ML                                                               </span><span style=\"color: #7f7f7f; text-decoration-color: #7f7f7f\">               </span>\n",
       "</pre>\n"
      ],
      "text/plain": [
       "\u001b[38;5;46m        \u001b[0m\u001b[38;5;46m \u001b[0m\u001b[38;5;134mWARNING \u001b[0m \u001b[1;38;5;251m Env. variable OMP_NUM_THREADS is not set. Please set it to \u001b[0m\u001b[1;37m1\u001b[0m\u001b[1;38;5;251m for optimal        \u001b[0m\u001b[1;38;5;251m \u001b[0m\u001b]8;id=328484;file:///Users/imartin5/software/threeML/threeML/__init__.py\u001b\\\u001b[2m__init__.py\u001b[0m\u001b]8;;\u001b\\\u001b[2m:\u001b[0m\u001b]8;id=299157;file:///Users/imartin5/software/threeML/threeML/__init__.py#387\u001b\\\u001b[2m387\u001b[0m\u001b]8;;\u001b\\\n",
       "\u001b[38;5;46m         \u001b[0m         \u001b[1;38;5;251mperformances in 3ML                                                              \u001b[0m\u001b[1;38;5;251m \u001b[0m\u001b[2m               \u001b[0m\n"
      ]
     },
     "metadata": {},
     "output_type": "display_data"
    },
    {
     "data": {
      "text/html": [
       "<pre style=\"white-space:pre;overflow-x:auto;line-height:normal;font-family:Menlo,'DejaVu Sans Mono',consolas,'Courier New',monospace\"><span style=\"color: #00ff00; text-decoration-color: #00ff00\">         </span><span style=\"color: #af5fd7; text-decoration-color: #af5fd7\">WARNING </span> <span style=\"color: #c6c6c6; text-decoration-color: #c6c6c6; font-weight: bold\"> Env. variable MKL_NUM_THREADS is not set. Please set it to </span><span style=\"color: #c0c0c0; text-decoration-color: #c0c0c0; font-weight: bold\">1</span><span style=\"color: #c6c6c6; text-decoration-color: #c6c6c6; font-weight: bold\"> for optimal         </span><a href=\"file:///Users/imartin5/software/threeML/threeML/__init__.py\" target=\"_blank\"><span style=\"color: #7f7f7f; text-decoration-color: #7f7f7f\">__init__.py</span></a><span style=\"color: #7f7f7f; text-decoration-color: #7f7f7f\">:</span><a href=\"file:///Users/imartin5/software/threeML/threeML/__init__.py#387\" target=\"_blank\"><span style=\"color: #7f7f7f; text-decoration-color: #7f7f7f\">387</span></a>\n",
       "<span style=\"color: #00ff00; text-decoration-color: #00ff00\">         </span>         <span style=\"color: #c6c6c6; text-decoration-color: #c6c6c6; font-weight: bold\">performances in 3ML                                                               </span><span style=\"color: #7f7f7f; text-decoration-color: #7f7f7f\">               </span>\n",
       "</pre>\n"
      ],
      "text/plain": [
       "\u001b[38;5;46m        \u001b[0m\u001b[38;5;46m \u001b[0m\u001b[38;5;134mWARNING \u001b[0m \u001b[1;38;5;251m Env. variable MKL_NUM_THREADS is not set. Please set it to \u001b[0m\u001b[1;37m1\u001b[0m\u001b[1;38;5;251m for optimal        \u001b[0m\u001b[1;38;5;251m \u001b[0m\u001b]8;id=164693;file:///Users/imartin5/software/threeML/threeML/__init__.py\u001b\\\u001b[2m__init__.py\u001b[0m\u001b]8;;\u001b\\\u001b[2m:\u001b[0m\u001b]8;id=187490;file:///Users/imartin5/software/threeML/threeML/__init__.py#387\u001b\\\u001b[2m387\u001b[0m\u001b]8;;\u001b\\\n",
       "\u001b[38;5;46m         \u001b[0m         \u001b[1;38;5;251mperformances in 3ML                                                              \u001b[0m\u001b[1;38;5;251m \u001b[0m\u001b[2m               \u001b[0m\n"
      ]
     },
     "metadata": {},
     "output_type": "display_data"
    },
    {
     "data": {
      "text/html": [
       "<pre style=\"white-space:pre;overflow-x:auto;line-height:normal;font-family:Menlo,'DejaVu Sans Mono',consolas,'Courier New',monospace\"><span style=\"color: #00ff00; text-decoration-color: #00ff00\">         </span><span style=\"color: #af5fd7; text-decoration-color: #af5fd7\">WARNING </span> <span style=\"color: #c6c6c6; text-decoration-color: #c6c6c6; font-weight: bold\"> Env. variable NUMEXPR_NUM_THREADS is not set. Please set it to </span><span style=\"color: #c0c0c0; text-decoration-color: #c0c0c0; font-weight: bold\">1</span><span style=\"color: #c6c6c6; text-decoration-color: #c6c6c6; font-weight: bold\"> for optimal     </span><a href=\"file:///Users/imartin5/software/threeML/threeML/__init__.py\" target=\"_blank\"><span style=\"color: #7f7f7f; text-decoration-color: #7f7f7f\">__init__.py</span></a><span style=\"color: #7f7f7f; text-decoration-color: #7f7f7f\">:</span><a href=\"file:///Users/imartin5/software/threeML/threeML/__init__.py#387\" target=\"_blank\"><span style=\"color: #7f7f7f; text-decoration-color: #7f7f7f\">387</span></a>\n",
       "<span style=\"color: #00ff00; text-decoration-color: #00ff00\">         </span>         <span style=\"color: #c6c6c6; text-decoration-color: #c6c6c6; font-weight: bold\">performances in 3ML                                                               </span><span style=\"color: #7f7f7f; text-decoration-color: #7f7f7f\">               </span>\n",
       "</pre>\n"
      ],
      "text/plain": [
       "\u001b[38;5;46m        \u001b[0m\u001b[38;5;46m \u001b[0m\u001b[38;5;134mWARNING \u001b[0m \u001b[1;38;5;251m Env. variable NUMEXPR_NUM_THREADS is not set. Please set it to \u001b[0m\u001b[1;37m1\u001b[0m\u001b[1;38;5;251m for optimal    \u001b[0m\u001b[1;38;5;251m \u001b[0m\u001b]8;id=567326;file:///Users/imartin5/software/threeML/threeML/__init__.py\u001b\\\u001b[2m__init__.py\u001b[0m\u001b]8;;\u001b\\\u001b[2m:\u001b[0m\u001b]8;id=550323;file:///Users/imartin5/software/threeML/threeML/__init__.py#387\u001b\\\u001b[2m387\u001b[0m\u001b]8;;\u001b\\\n",
       "\u001b[38;5;46m         \u001b[0m         \u001b[1;38;5;251mperformances in 3ML                                                              \u001b[0m\u001b[1;38;5;251m \u001b[0m\u001b[2m               \u001b[0m\n"
      ]
     },
     "metadata": {},
     "output_type": "display_data"
    }
   ],
   "source": [
    "# 3ML stuff\n",
    "from threeML import PluginPrototype, Model, Powerlaw, PointSource, JointLikelihood, DataList\n",
    "from astromodels import Parameter\n",
    "\n",
    "# I'm using gammapy's spectrum for now, but we'll change this to 3ML's.\n",
    "from gammapy.modeling.models import PowerLawSpectralModel\n",
    "\n",
    "# We'll yse histpy's Histogram and mhealpy's HealpixMap as the basis\n",
    "# develop cosipy. These object (or a derivative) will be passed around by \n",
    "# the different modules.\n",
    "from histpy import Histogram, Axis\n",
    "from mhealpy import HealpixMap\n",
    "\n",
    "# Needed for coordinate conversion.\n",
    "# cosipy uses astropy coordinates, with a custom\n",
    "# SpacecraftFrame (coordinate frame attached to COSI)\n",
    "from astropy.coordinates import SkyCoord\n",
    "from cosipy.coordinates import SpacecraftFrame, Attitude\n",
    "\n",
    "# cosipy uses astropy units\n",
    "import astropy.units as u\n",
    "from astropy.time import Time\n",
    "\n",
    "# Other cosipy modules. Eventually the data classes and \n",
    "# SC pos/attitude modules will be needed too.\n",
    "from cosipy.response import FullDetectorResponse\n",
    "\n",
    "#Other standard libraries\n",
    "import numpy as np\n",
    "import matplotlib.pyplot as plt\n",
    "from scipy.special import factorial\n",
    "from scipy import stats\n",
    "import collections"
   ]
  },
  {
   "cell_type": "markdown",
   "id": "908a515d-0ba8-45aa-8567-9ff410ddaba5",
   "metadata": {},
   "source": [
    "## 3ML plugin"
   ]
  },
  {
   "cell_type": "markdown",
   "id": "bf941fdd-2832-42b0-a754-71a4b8227819",
   "metadata": {},
   "source": [
    "A 3ML plugin is any class that inherits from 3ML's `PluginPrototype` class. The main two methods that need to be implemented are:\n",
    "* `set_model`, which translates a 3ML source model into instrument-specific data. In our case, we convolve the source position and spectrum with the COSI response in order to obtain the spected counts from the source.\n",
    "* `get_log_likelihood`, which return the logarithm of the likelihood (computed with the equation above) that 3ML will combine with the likelihood from other instruments."
   ]
  },
  {
   "cell_type": "code",
   "execution_count": 2,
   "id": "f0c1221e-e9d2-4417-baa9-ae7594a2b48f",
   "metadata": {},
   "outputs": [],
   "source": [
    "class COSILike(PluginPrototype):\n",
    "    def __init__(self, name, dr, data, bkg, sc_orientation, **kwargs):\n",
    "        \"\"\"\n",
    "        COSI 3ML plugin\n",
    "        \n",
    "        Parameters\n",
    "        ----------\n",
    "        name : str\n",
    "            Plugin name e.g. \"cosi\". Needs to have a distinct name with respect to other plugins in the same analysis\n",
    "        dr : Path\n",
    "            Path to full detector response\n",
    "        data: histpy.Histogram\n",
    "            Binned data. Note: Eventually this should be a cosipy data class\n",
    "        bkg: histpy.Histogram\n",
    "            Binned background model. Note: Eventually this should be a cosipy data class\n",
    "        sc_orientation: array\n",
    "            Pair of timestamps (astropy.Time) and attitudes (scoord.Attitude) that describe\n",
    "            the orientation of the spacecraft for the duration of the data included in\n",
    "            the analysis. Note: this will eventually be handled by the SC location and\n",
    "            orientation module\n",
    "        \"\"\"\n",
    "        \n",
    "        # create the hash for the nuisance parameters. We have none for now.\n",
    "        nuisance_parameters = collections.OrderedDict()\n",
    "\n",
    "        # call the prototype constructor. Boilerplate.\n",
    "        super(COSILike, self).__init__(name, nuisance_parameters)\n",
    "\n",
    "        # User inputs needed to compute the likelihood\n",
    "        self._dr = FullDetectorResponse.open(dr)\n",
    "        self._data = data\n",
    "        self._bkg = bkg\n",
    "        self._sc_orientation = sc_orientation\n",
    "    \n",
    "        # Place-holder for cached data.\n",
    "        self._model = None\n",
    "        self._source = None\n",
    "        self._psr = None\n",
    "        self._signal = None\n",
    "        \n",
    "    def set_model(self, model):\n",
    "        \"\"\"\n",
    "        Set the model to be used in the joint minimization.\n",
    "        \n",
    "        Parameters:\n",
    "            model: LikelihoodModel\n",
    "                Any model supported by astromodel. However, this simple plugin only support single \n",
    "                point-sources with a power law spectrum\n",
    "        \"\"\"\n",
    "        \n",
    "        # Check for limitations\n",
    "        if len(model.extended_sources) != 0 or len(model.particle_sources):\n",
    "            raise RuntimeError(\"Only point source models are supported\")\n",
    "        \n",
    "        sources = model.point_sources\n",
    "        \n",
    "        if len(sources) != 1:\n",
    "            raise RuntimeError(\"Only one for now\")\n",
    "        \n",
    "        # Get expectation\n",
    "        for name,source in sources.items():\n",
    "\n",
    "            if self._source is None:\n",
    "                self._source = source\n",
    "                     \n",
    "            # Compute point source response for source position\n",
    "            # See also the Detector Response and Source Injector tutorials\n",
    "            if self._psr is None:\n",
    "            \n",
    "                coord = self._source.position.sky_coord\n",
    "            \n",
    "                dwell_time_map = self._get_dwell_time_map(coord)\n",
    "            \n",
    "                self._psr = self._dr.get_point_source_response(dwell_time_map)\n",
    "            \n",
    "            elif source.position != self._source.position:\n",
    "                \n",
    "                raise RuntimeError(\"No change in position for now\")\n",
    "\n",
    "            # Convolve with spectrum\n",
    "            # See also the Detector Response and Source Injector tutorials\n",
    "            spectrum = source.spectrum.main.shape\n",
    "            \n",
    "            # Here we translate to gammapy. We will make the detector response\n",
    "            # accept 3ML models and there will be no need for this\n",
    "            if not isinstance(spectrum, Powerlaw):\n",
    "                raise RuntimeError(\"Only PowerLaw supported for now\")\n",
    "\n",
    "            spectrum = PowerLawSpectralModel(\n",
    "                            index = -spectrum.index.value,\n",
    "                            amplitude = spectrum.K.value * spectrum.K.unit,\n",
    "                            reference = spectrum.piv.value * spectrum.piv.unit)\n",
    "                \n",
    "            self._signal = self._psr.get_expectation(spectrum).project(['Em', 'Phi', 'PsiChi'])\n",
    "            \n",
    "        # Cache\n",
    "        self._model = model\n",
    "\n",
    "    def get_log_like(self):\n",
    "\n",
    "        # Recompute the expectation if any parameter in the model changed\n",
    "        if self._model is None:\n",
    "            log.error(\"You need to set the model first\")\n",
    "        \n",
    "        self.set_model(self._model)\n",
    "        \n",
    "        # Compute \"lambda\" in the equations above\n",
    "        expectation = self._signal.contents + self._bkg.contents\n",
    "        \n",
    "        data = self._data.contents # Into an array\n",
    "        \n",
    "        # Compute the log-likelihood from the equations above\n",
    "        log_like = np.sum(np.log(np.power(expectation, data) * \n",
    "                             np.exp(-expectation) / \n",
    "                             factorial(data)))\n",
    "        \n",
    "        return log_like\n",
    "\n",
    "    def inner_fit(self):\n",
    "        \"\"\"\n",
    "        This fits nuisance parameters, but we have none for now.\n",
    "        \"\"\"\n",
    "        \n",
    "        return self.get_log_like()\n",
    "    \n",
    "    def _get_dwell_time_map(self, coord):\n",
    "        \"\"\"\n",
    "        This will be eventually be provided by another module\n",
    "        \"\"\"\n",
    "        \n",
    "        # The dwell time map has the same pixelation (base) as the detector response.\n",
    "        # We start with an empty map\n",
    "        dwell_time_map = HealpixMap(base = self._dr, \n",
    "                                    unit = u.s, \n",
    "                                    coordsys = SpacecraftFrame())\n",
    "\n",
    "        # Get timestamps and attitude values\n",
    "        timestamps, attitudes = zip(*self._sc_orientation)\n",
    "            \n",
    "        for attitude,duration in zip(attitudes[:-1], np.diff(timestamps)):\n",
    "\n",
    "            local_coord = coord.transform_to(SpacecraftFrame(attitude = attitude))\n",
    "\n",
    "            # Here we add duration in between timestamps using interpolations\n",
    "            pixels, weights = dwell_time_map.get_interp_weights(local_coord)\n",
    "\n",
    "            for p,w in zip(pixels, weights):\n",
    "                dwell_time_map[p] += w*duration.to(u.s)\n",
    "        \n",
    "        return dwell_time_map"
   ]
  },
  {
   "cell_type": "markdown",
   "id": "e7e564f1-8cbf-44cd-a0ed-8b08ccb250dc",
   "metadata": {},
   "source": [
    "## 3ML fitting"
   ]
  },
  {
   "cell_type": "markdown",
   "id": "6f03c5ee-9f04-4977-85ec-8328b53e0de5",
   "metadata": {},
   "source": [
    "Fitting in 3ML begins by instantiating all plugins. Each one needs different inputs, specific to each instrument. Although 3ML was designed to fit data from multiple instruments, we can also fit data from a single detector without any changes to the workflow. For now, \"cosi\" is our only plugin:"
   ]
  },
  {
   "cell_type": "code",
   "execution_count": 3,
   "id": "4741594f-3281-46e9-a195-e0fc4733b96e",
   "metadata": {},
   "outputs": [],
   "source": [
    "# Inputs needed by the COSI plugin\n",
    "# We'll use fake data from the \"Source injector\" tutorial\n",
    "dr = \"/Users/imartin5/cosi/scratch/rsp/compton_sphere/FlatContinuumIsotropic.LowRes.binnedimaging.imagingresponse.area.nside8.cosipy.h5\"\n",
    "data = Histogram.open(\"data.h5\")\n",
    "bkg = Histogram.open(\"bkg.h5\")\n",
    "signal = Histogram.open(\"signal.h5\")\n",
    "\n",
    "# 1s duration. Spacecraft aligned with the ICRS ([0,0,0,1] = Identity)\n",
    "sc_orientation = [(Time('2025-01-01T13:02:01.00'), Attitude.from_quat([0,0,0,1])), \n",
    "                  (Time('2025-01-01T13:02:02.00'), Attitude.from_quat([0,0,0,1]))]\n",
    "\n",
    "# Instantiate the plugin\n",
    "# Note that we'll use 3x the signal we injected before. \n",
    "cosi = COSILike(\"cosi\",\n",
    "                dr = dr,\n",
    "                data = bkg + 3*signal, \n",
    "                bkg = bkg, \n",
    "                sc_orientation = sc_orientation)\n",
    "\n",
    "# Corresponding parameters, for reference\n",
    "norm_inj = 3e-1 # 1/keV/cm2/s (3x the injected signal)\n",
    "piv_inj = 1 # keV\n",
    "index_inj = -1.7 "
   ]
  },
  {
   "cell_type": "markdown",
   "id": "c10c8ac6-07e9-4c87-b8ab-acdb30410d73",
   "metadata": {},
   "source": [
    "The next step is to initialize the model that contains all free parameters:"
   ]
  },
  {
   "cell_type": "code",
   "execution_count": 4,
   "id": "f459020d-169f-4a68-9062-610e6e6b06d5",
   "metadata": {},
   "outputs": [],
   "source": [
    "# Our model will contain a single source with a power law spectrum\n",
    "spectrum = Powerlaw()\n",
    "\n",
    "# Setting the parameter to something reasonable helps the \n",
    "# fitting to converge\n",
    "spectrum.piv.value = 1 # keV\n",
    "spectrum.K.value = 1 # 1/keV/cm2/s\n",
    "spectrum.index.value = -2\n",
    "\n",
    "# Optional: change pivot energy\n",
    "# The pivot value is arbitrary, ideally nothing should depend on it\n",
    "# However, it is recommended to choose a value near the energy\n",
    "# for which the detector is most sensitive ir onder to minimize\n",
    "# the correlation between the normalization and spectral index.\n",
    "# Try setting it to 500 keV and see how the results change\n",
    "# piv =  500 #keV\n",
    "# spectrum.K.value = spectrum(piv) # 1/keV/cm2/s\n",
    "# spectrum.piv.value = piv # keV\n",
    "\n",
    "# Point source instance, at the know location (from the \"Source Injectior\" tutorial)\n",
    "source = PointSource(\"source\", # The name of the source is arbitrary, but needs to be unique\n",
    "                     ra = 20, #deg \n",
    "                     dec = 40, #deg\n",
    "                     spectral_shape = spectrum)\n",
    "\n",
    "# Adding the source to the model\n",
    "# If we had multiple sources, we would do Model(source1, source2, ...)\n",
    "model = Model(source)\n",
    "\n",
    "# Optional: if you want to call get_log_like manually, then you\n",
    "# also need to set the model manually. 3ML does this internanlly during the fit though\n",
    "cosi.set_model(model)"
   ]
  },
  {
   "cell_type": "markdown",
   "id": "31232d2f-0f8b-44c1-8c37-cf1cb72afdb1",
   "metadata": {},
   "source": [
    "And finally, let 3ML maximize the likelihood:"
   ]
  },
  {
   "cell_type": "code",
   "execution_count": 5,
   "id": "0f25a244-dd9d-4bf0-aa9b-8de8981cdbe0",
   "metadata": {},
   "outputs": [
    {
     "data": {
      "text/html": [
       "<pre style=\"white-space:pre;overflow-x:auto;line-height:normal;font-family:Menlo,'DejaVu Sans Mono',consolas,'Courier New',monospace\"><span style=\"color: #00ff00; text-decoration-color: #00ff00\">22:59:26 </span><span style=\"color: #00ffaf; text-decoration-color: #00ffaf\">INFO    </span> <span style=\"color: #c6c6c6; text-decoration-color: #c6c6c6; font-weight: bold\"> set the minimizer to minuit                                             </span><a href=\"file:///Users/imartin5/software/threeML/threeML/classicMLE/joint_likelihood.py\" target=\"_blank\"><span style=\"color: #7f7f7f; text-decoration-color: #7f7f7f\">joint_likelihood.py</span></a><span style=\"color: #7f7f7f; text-decoration-color: #7f7f7f\">:</span><a href=\"file:///Users/imartin5/software/threeML/threeML/classicMLE/joint_likelihood.py#1042\" target=\"_blank\"><span style=\"color: #7f7f7f; text-decoration-color: #7f7f7f\">1042</span></a>\n",
       "</pre>\n"
      ],
      "text/plain": [
       "\u001b[38;5;46m22:59:26\u001b[0m\u001b[38;5;46m \u001b[0m\u001b[38;5;49mINFO    \u001b[0m \u001b[1;38;5;251m set the minimizer to minuit                                            \u001b[0m\u001b[1;38;5;251m \u001b[0m\u001b]8;id=779421;file:///Users/imartin5/software/threeML/threeML/classicMLE/joint_likelihood.py\u001b\\\u001b[2mjoint_likelihood.py\u001b[0m\u001b]8;;\u001b\\\u001b[2m:\u001b[0m\u001b]8;id=616175;file:///Users/imartin5/software/threeML/threeML/classicMLE/joint_likelihood.py#1042\u001b\\\u001b[2m1042\u001b[0m\u001b]8;;\u001b\\\n"
      ]
     },
     "metadata": {},
     "output_type": "display_data"
    },
    {
     "data": {
      "text/html": [
       "<pre style=\"white-space:pre;overflow-x:auto;line-height:normal;font-family:Menlo,'DejaVu Sans Mono',consolas,'Courier New',monospace\"><span style=\"color: #00ff00; text-decoration-color: #00ff00\">22:59:40 </span><span style=\"color: #af5fd7; text-decoration-color: #af5fd7\">WARNING </span> <span style=\"color: #c6c6c6; text-decoration-color: #c6c6c6; font-weight: bold\"> get_number_of_data_points not implemented, values for statistical        </span><a href=\"file:///Users/imartin5/software/threeML/threeML/plugin_prototype.py\" target=\"_blank\"><span style=\"color: #7f7f7f; text-decoration-color: #7f7f7f\">plugin_prototype.py</span></a><span style=\"color: #7f7f7f; text-decoration-color: #7f7f7f\">:</span><a href=\"file:///Users/imartin5/software/threeML/threeML/plugin_prototype.py#128\" target=\"_blank\"><span style=\"color: #7f7f7f; text-decoration-color: #7f7f7f\">128</span></a>\n",
       "<span style=\"color: #00ff00; text-decoration-color: #00ff00\">         </span>         <span style=\"color: #c6c6c6; text-decoration-color: #c6c6c6; font-weight: bold\">measurements such as AIC or BIC are unreliable                            </span><span style=\"color: #7f7f7f; text-decoration-color: #7f7f7f\">                       </span>\n",
       "</pre>\n"
      ],
      "text/plain": [
       "\u001b[38;5;46m22:59:40\u001b[0m\u001b[38;5;46m \u001b[0m\u001b[38;5;134mWARNING \u001b[0m \u001b[1;38;5;251m get_number_of_data_points not implemented, values for statistical       \u001b[0m\u001b[1;38;5;251m \u001b[0m\u001b]8;id=499208;file:///Users/imartin5/software/threeML/threeML/plugin_prototype.py\u001b\\\u001b[2mplugin_prototype.py\u001b[0m\u001b]8;;\u001b\\\u001b[2m:\u001b[0m\u001b]8;id=378081;file:///Users/imartin5/software/threeML/threeML/plugin_prototype.py#128\u001b\\\u001b[2m128\u001b[0m\u001b]8;;\u001b\\\n",
       "\u001b[38;5;46m         \u001b[0m         \u001b[1;38;5;251mmeasurements such as AIC or BIC are unreliable                           \u001b[0m\u001b[1;38;5;251m \u001b[0m\u001b[2m                       \u001b[0m\n"
      ]
     },
     "metadata": {},
     "output_type": "display_data"
    },
    {
     "data": {
      "text/html": [
       "<pre style=\"white-space:pre;overflow-x:auto;line-height:normal;font-family:Menlo,'DejaVu Sans Mono',consolas,'Courier New',monospace\"><span style=\"color: #00ffaf; text-decoration-color: #00ffaf; font-weight: bold; text-decoration: underline\">Best fit values:</span>\n",
       "\n",
       "</pre>\n"
      ],
      "text/plain": [
       "\u001b[1;4;38;5;49mBest fit values:\u001b[0m\n",
       "\n"
      ]
     },
     "metadata": {},
     "output_type": "display_data"
    },
    {
     "data": {
      "text/html": [
       "<div>\n",
       "<style scoped>\n",
       "    .dataframe tbody tr th:only-of-type {\n",
       "        vertical-align: middle;\n",
       "    }\n",
       "\n",
       "    .dataframe tbody tr th {\n",
       "        vertical-align: top;\n",
       "    }\n",
       "\n",
       "    .dataframe thead th {\n",
       "        text-align: right;\n",
       "    }\n",
       "</style>\n",
       "<table border=\"1\" class=\"dataframe\">\n",
       "  <thead>\n",
       "    <tr style=\"text-align: right;\">\n",
       "      <th></th>\n",
       "      <th>result</th>\n",
       "      <th>unit</th>\n",
       "    </tr>\n",
       "    <tr>\n",
       "      <th>parameter</th>\n",
       "      <th></th>\n",
       "      <th></th>\n",
       "    </tr>\n",
       "  </thead>\n",
       "  <tbody>\n",
       "    <tr>\n",
       "      <th>source.spectrum.main.Powerlaw.K</th>\n",
       "      <td>(3.0 -1.8 +5) x 10^-1</td>\n",
       "      <td>1 / (cm2 keV s)</td>\n",
       "    </tr>\n",
       "    <tr>\n",
       "      <th>source.spectrum.main.Powerlaw.index</th>\n",
       "      <td>-1.70 +/- 0.15</td>\n",
       "      <td></td>\n",
       "    </tr>\n",
       "  </tbody>\n",
       "</table>\n",
       "</div>"
      ],
      "text/plain": [
       "                                                    result             unit\n",
       "parameter                                                                  \n",
       "source.spectrum.main.Powerlaw.K      (3.0 -1.8 +5) x 10^-1  1 / (cm2 keV s)\n",
       "source.spectrum.main.Powerlaw.index         -1.70 +/- 0.15                 "
      ]
     },
     "metadata": {},
     "output_type": "display_data"
    },
    {
     "data": {
      "text/html": [
       "<pre style=\"white-space:pre;overflow-x:auto;line-height:normal;font-family:Menlo,'DejaVu Sans Mono',consolas,'Courier New',monospace\">\n",
       "<span style=\"color: #00ffaf; text-decoration-color: #00ffaf; font-weight: bold; text-decoration: underline\">Correlation matrix:</span>\n",
       "\n",
       "</pre>\n"
      ],
      "text/plain": [
       "\n",
       "\u001b[1;4;38;5;49mCorrelation matrix:\u001b[0m\n",
       "\n"
      ]
     },
     "metadata": {},
     "output_type": "display_data"
    },
    {
     "data": {
      "text/html": [
       "<div><table id=\"table5268433024\">\n",
       "<tr><td>1.00</td><td>-0.99</td></tr>\n",
       "<tr><td>-0.99</td><td>1.00</td></tr>\n",
       "</table></div>"
      ],
      "text/plain": [
       " 1.00 -0.99\n",
       "-0.99  1.00"
      ]
     },
     "metadata": {},
     "output_type": "display_data"
    },
    {
     "data": {
      "text/html": [
       "<pre style=\"white-space:pre;overflow-x:auto;line-height:normal;font-family:Menlo,'DejaVu Sans Mono',consolas,'Courier New',monospace\">\n",
       "<span style=\"color: #00ffaf; text-decoration-color: #00ffaf; font-weight: bold; text-decoration: underline\">Values of -log(likelihood) at the minimum:</span>\n",
       "\n",
       "</pre>\n"
      ],
      "text/plain": [
       "\n",
       "\u001b[1;4;38;5;49mValues of -\u001b[0m\u001b[1;4;38;5;49mlog\u001b[0m\u001b[1;4;38;5;49m(\u001b[0m\u001b[1;4;38;5;49mlikelihood\u001b[0m\u001b[1;4;38;5;49m)\u001b[0m\u001b[1;4;38;5;49m at the minimum:\u001b[0m\n",
       "\n"
      ]
     },
     "metadata": {},
     "output_type": "display_data"
    },
    {
     "data": {
      "text/html": [
       "<div>\n",
       "<style scoped>\n",
       "    .dataframe tbody tr th:only-of-type {\n",
       "        vertical-align: middle;\n",
       "    }\n",
       "\n",
       "    .dataframe tbody tr th {\n",
       "        vertical-align: top;\n",
       "    }\n",
       "\n",
       "    .dataframe thead th {\n",
       "        text-align: right;\n",
       "    }\n",
       "</style>\n",
       "<table border=\"1\" class=\"dataframe\">\n",
       "  <thead>\n",
       "    <tr style=\"text-align: right;\">\n",
       "      <th></th>\n",
       "      <th>-log(likelihood)</th>\n",
       "    </tr>\n",
       "  </thead>\n",
       "  <tbody>\n",
       "    <tr>\n",
       "      <th>cosi</th>\n",
       "      <td>4540.459283</td>\n",
       "    </tr>\n",
       "    <tr>\n",
       "      <th>total</th>\n",
       "      <td>4540.459283</td>\n",
       "    </tr>\n",
       "  </tbody>\n",
       "</table>\n",
       "</div>"
      ],
      "text/plain": [
       "       -log(likelihood)\n",
       "cosi        4540.459283\n",
       "total       4540.459283"
      ]
     },
     "metadata": {},
     "output_type": "display_data"
    },
    {
     "data": {
      "text/html": [
       "<pre style=\"white-space:pre;overflow-x:auto;line-height:normal;font-family:Menlo,'DejaVu Sans Mono',consolas,'Courier New',monospace\">\n",
       "<span style=\"color: #00ffaf; text-decoration-color: #00ffaf; font-weight: bold; text-decoration: underline\">Values of statistical measures:</span>\n",
       "\n",
       "</pre>\n"
      ],
      "text/plain": [
       "\n",
       "\u001b[1;4;38;5;49mValues of statistical measures:\u001b[0m\n",
       "\n"
      ]
     },
     "metadata": {},
     "output_type": "display_data"
    },
    {
     "data": {
      "text/html": [
       "<div>\n",
       "<style scoped>\n",
       "    .dataframe tbody tr th:only-of-type {\n",
       "        vertical-align: middle;\n",
       "    }\n",
       "\n",
       "    .dataframe tbody tr th {\n",
       "        vertical-align: top;\n",
       "    }\n",
       "\n",
       "    .dataframe thead th {\n",
       "        text-align: right;\n",
       "    }\n",
       "</style>\n",
       "<table border=\"1\" class=\"dataframe\">\n",
       "  <thead>\n",
       "    <tr style=\"text-align: right;\">\n",
       "      <th></th>\n",
       "      <th>statistical measures</th>\n",
       "    </tr>\n",
       "  </thead>\n",
       "  <tbody>\n",
       "    <tr>\n",
       "      <th>AIC</th>\n",
       "      <td>9078.918566</td>\n",
       "    </tr>\n",
       "    <tr>\n",
       "      <th>BIC</th>\n",
       "      <td>9080.918566</td>\n",
       "    </tr>\n",
       "  </tbody>\n",
       "</table>\n",
       "</div>"
      ],
      "text/plain": [
       "     statistical measures\n",
       "AIC           9078.918566\n",
       "BIC           9080.918566"
      ]
     },
     "metadata": {},
     "output_type": "display_data"
    },
    {
     "data": {
      "text/plain": [
       "(                                        value  negative_error  positive_error  \\\n",
       " source.spectrum.main.Powerlaw.K      0.300053       -0.180704        0.453719   \n",
       " source.spectrum.main.Powerlaw.index -1.700008       -0.146019        0.147397   \n",
       " \n",
       "                                         error             unit  \n",
       " source.spectrum.main.Powerlaw.K      0.317212  1 / (cm2 keV s)  \n",
       " source.spectrum.main.Powerlaw.index  0.146708                   ,\n",
       "        -log(likelihood)\n",
       " cosi        4540.459283\n",
       " total       4540.459283)"
      ]
     },
     "execution_count": 5,
     "metadata": {},
     "output_type": "execute_result"
    }
   ],
   "source": [
    "# Gather all plugins. \n",
    "# If we had multiple instruments, we would do e.g. DataList(cosi, lat, hawc, ...)\n",
    "plugins = DataList(cosi)\n",
    "\n",
    "# Put model and pluging together\n",
    "like = JointLikelihood(model, plugins, verbose = False)\n",
    "\n",
    "# Maximum likelihood\n",
    "like.fit()"
   ]
  },
  {
   "cell_type": "markdown",
   "id": "2d423b50-005e-4974-a18b-526680f9277c",
   "metadata": {},
   "source": [
    "Compare this with the values used for the injection."
   ]
  },
  {
   "cell_type": "markdown",
   "id": "90664217-0b7d-4168-91f3-4312613d994b",
   "metadata": {},
   "source": [
    "## 3ML error propagation and plotting"
   ]
  },
  {
   "cell_type": "markdown",
   "id": "c9e73b29-93ec-40bc-84f4-5897c8f0ce11",
   "metadata": {},
   "source": [
    "The summary of the results above tell you the optimal values of `K` and `index`, as well as the errors. You typically want to propagate these into the error in the flux at different energies, and plot the spectrum. Let's do that:"
   ]
  },
  {
   "cell_type": "code",
   "execution_count": 6,
   "id": "70303f86-eec7-483f-845e-0f0724ea52fa",
   "metadata": {},
   "outputs": [
    {
     "data": {
      "image/png": "[encoded data removed]",
      "text/plain": [
       "<Figure size 640x480 with 1 Axes>"
      ]
     },
     "metadata": {},
     "output_type": "display_data"
    }
   ],
   "source": [
    "# Propagate the errors to the \"evaluate_at\" method of the spectrum\n",
    "results = like.results\n",
    "\n",
    "parameters = {par.name:results.get_variates(par.path)\n",
    "              for par in results.optimized_model[\"source\"].parameters.values()\n",
    "              if par.free}\n",
    "\n",
    "results_err = results.propagate(results.optimized_model[\"source\"].spectrum.main.shape.evaluate_at, **parameters)\n",
    "\n",
    "# Evaluate at multiple energy values, for plotting\n",
    "energy = np.geomspace(200*u.keV,5*u.MeV).to_value(u.keV)\n",
    "\n",
    "flux_lo = np.zeros_like(energy)\n",
    "flux_median = np.zeros_like(energy)\n",
    "flux_hi = np.zeros_like(energy)\n",
    "\n",
    "for i, e in enumerate(energy):\n",
    "    \n",
    "    flux = results_err(e)\n",
    "\n",
    "    flux_median[i] = flux.median\n",
    "    flux_lo[i], flux_hi[i] = flux.equal_tail_interval(cl=0.68)\n",
    "\n",
    "    \n",
    "# Plot\n",
    "fig,ax = plt.subplots()\n",
    "\n",
    "ax.plot(energy, energy*energy*flux_median, label = \"Measured (best)\")\n",
    "\n",
    "ax.fill_between(energy, energy*energy*flux_lo, energy*energy*flux_hi, alpha = .5, label = \"Measured (errors)\")\n",
    "\n",
    "energy_inj = np.geomspace(1e2, 1e4)\n",
    "ax.plot(energy_inj, energy_inj*energy_inj*norm_inj*(energy_inj/piv_inj)**index_inj, color = 'black', ls = \":\", label = \"Injected\")\n",
    "\n",
    "ax.set_xscale(\"log\")\n",
    "\n",
    "ax.set_yscale(\"log\")\n",
    "\n",
    "ax.set_xlim(1e2, 1e4)\n",
    "ax.set_ylim(1e-1, 100)\n",
    "\n",
    "ax.set_xlabel(\"Energy [keV]\")\n",
    "ax.set_ylabel(r\"$E^2 \\frac{dN}{dE}$ [keV cm$^{-2}$ s$^{-1}$]\")\n",
    "\n",
    "ax.legend();"
   ]
  },
  {
   "cell_type": "markdown",
   "id": "0a318389-657a-4209-bb5e-5519be2c36ba",
   "metadata": {},
   "source": [
    "## TS grid (brute force fitting)"
   ]
  },
  {
   "cell_type": "markdown",
   "id": "a41ef423-2214-4ab9-87d4-b575c7bf4c0d",
   "metadata": {},
   "source": [
    "The function `fit()` above is simply finding the maximum value of `cosi.get_log_like()`, and then using the difference in likelihood as a function of each parameter to find the errors and correlations. It can be enlightening to see this visually, so let's see how the likelihood profile looks by evaluating it at multiple location in grid. This might take a few minutes, it's a _brute_ force method after all."
   ]
  },
  {
   "cell_type": "code",
   "execution_count": 7,
   "id": "7abcf2e6-48cb-4a47-9127-e0297a76037e",
   "metadata": {},
   "outputs": [
    {
     "name": "stdout",
     "output_type": "stream",
     "text": [
      "i = 28/29  j = 29/30"
     ]
    }
   ],
   "source": [
    "# Find a reasonable range to evaluate, based on the 99% confidence intervals\n",
    "index_range = results.get_equal_tailed_interval('source.spectrum.main.Powerlaw.index', cl = .99)\n",
    "norm_range = results.get_equal_tailed_interval('source.spectrum.main.Powerlaw.K', cl = .99)\n",
    "\n",
    "log_like = Histogram([Axis(np.linspace(*index_range, 30), label = \"index\"), \n",
    "                      Axis(np.linspace(*norm_range, 31), label = \"norm\")])\n",
    "\n",
    "for i in range(log_like.axes['index'].nbins):\n",
    "    for j in range(log_like.axes['norm'].nbins):\n",
    "        \n",
    "        # Progress\n",
    "        print(f\"\\ri = {i:2d}/{log_like.axes['index'].nbins}  j = {j:2d}/{log_like.axes['norm'].nbins}\", end = \"\")\n",
    "        \n",
    "        # Change the spectrum parameters\n",
    "        spectrum.K.value = log_like.axes['norm'].centers[j]\n",
    "        spectrum.index.value = log_like.axes['index'].centers[i]\n",
    "\n",
    "        # Recompute the likelihood\n",
    "        log_like[i,j] = cosi.get_log_like()"
   ]
  },
  {
   "cell_type": "markdown",
   "id": "b7485e63-4c82-4eea-bc5a-b020af4fe555",
   "metadata": {},
   "source": [
    "The log likelihood can also be used in hypothesis testing. Given the likelihood for a null-hypothesis model $\\mathcal{L}_0$, Wilks' theorem says that, when the sample size approaches infinity, the test statistic\n",
    "\n",
    "$$\n",
    "TS = 2 \\frac{\\mathrm{max} \\mathcal{L}}{\\mathrm{max} \\mathcal{L}_0}\n",
    "$$\n",
    "\n",
    "approaches a $\\chi^2$ distribution under the null-hypothesis. The number of degrees of freedom equals to the difference in the number of parameters between the alternative and the null hypothesis (all parameter of the null hypothesis must be present in the alternative hypothesis, aka _nested models_). Although this only applies for large sample size, it is usually a good first approximation. \n",
    "\n",
    "To make this more concrete, a common null hypothesis is that there is no source, only background, and the alternative hypothesis is that there is a source. In our example, the alternative model has 2 degrees of freedom (normalization and index), and the null-hypothesis had none (because we assummed the background is known and fixed).\n",
    "\n",
    "Since the $\\mathcal{L}_0$ is just a constant, we can compute it directly once and for all:"
   ]
  },
  {
   "cell_type": "code",
   "execution_count": 8,
   "id": "2848e269-b171-45a9-b123-9d71b425fd2b",
   "metadata": {},
   "outputs": [],
   "source": [
    "# Set the normalization to 0, that is, background-only null-hypothesis\n",
    "spectrum.K.value = spectrum.K.min_value # min_value is a very small value, approx 0. However, it can't be exactly 0 for some internal numerical reason\n",
    "\n",
    "# Compute the likelihood\n",
    "log_like0 = cosi.get_log_like()"
   ]
  },
  {
   "cell_type": "markdown",
   "id": "839229bb-3435-43f8-a2e1-0b2bb9a94169",
   "metadata": {},
   "source": [
    "The TS is then"
   ]
  },
  {
   "cell_type": "code",
   "execution_count": 9,
   "id": "5d8eb72d-0af5-457c-a68b-687e88c0ef03",
   "metadata": {},
   "outputs": [
    {
     "name": "stdout",
     "output_type": "stream",
     "text": [
      "Expected significance: 10.4 sigma\n"
     ]
    }
   ],
   "source": [
    "ts = 2*(log_like - log_like0)\n",
    "\n",
    "# Getting the maximum\n",
    "# Note that, in our case, since log_like0 is a constant,\n",
    "# max(TS) = 2\n",
    "argmax = np.unravel_index(np.argmax(ts), ts.nbins)\n",
    "\n",
    "ts_max = ts[argmax]\n",
    "\n",
    "# And converting to significance based on Wilk's theorem\n",
    "print(f\"Expected significance: {stats.norm.isf(stats.chi2.sf(ts_max, df = 2)):.1f} sigma\")"
   ]
  },
  {
   "cell_type": "markdown",
   "id": "d8533a5c-648d-4849-8586-853cd8fd6e7e",
   "metadata": {},
   "source": [
    "Finally, let's plot the TS profile vs the free parameters, find the maximumum and use Wilk's theorem to estimate a confidence interval. \n",
    "\n",
    "Note that since `log_like0` does not depend on the source parameters, TS looks the same as `log_like`, up to a constant and a factor of 2."
   ]
  },
  {
   "cell_type": "code",
   "execution_count": 19,
   "id": "ebfbe5e7-b535-428f-aad9-4cf4344ace98",
   "metadata": {},
   "outputs": [
    {
     "data": {
      "image/png": "[encoded data removed]",
      "text/plain": [
       "<Figure size 640x480 with 2 Axes>"
      ]
     },
     "metadata": {},
     "output_type": "display_data"
    }
   ],
   "source": [
    "fig,ax = plt.subplots()\n",
    "\n",
    "_,plot = ts.plot(ax, vmin = 0, colorbar = False)\n",
    "\n",
    "ax.scatter([ts.axes['index'].centers[argmax[0]]],[ts.axes['norm'].centers[argmax[1]]], label = \"Max TS\")\n",
    "\n",
    "ax.scatter([index_inj],[norm_inj*(spectrum.piv.value/piv_inj)**index_inj], marker = \"x\", label = \"Injected\")\n",
    "\n",
    "# Here we also use Wilk's theorem to find the DeltaTS that corresponse to a 90% containment confidence\n",
    "ts_thresh = ts_max - stats.chi2.isf(1-.9, df = 2)\n",
    "contours = ax.contour(ts.axes['index'].centers, \n",
    "                      ts.axes['norm'].centers, \n",
    "                      ts.contents.transpose(), \n",
    "                      [ts_thresh], colors = 'red')\n",
    "contours.collections[0].set_label(\"90% cont.\")\n",
    "\n",
    "cbar = fig.colorbar(plot)\n",
    "cbar.ax.set_ylabel(\"TS\")\n",
    "\n",
    "ax.legend();"
   ]
  },
  {
   "cell_type": "markdown",
   "id": "45f5ea34-f7a9-444e-bf06-1d22b15abe22",
   "metadata": {},
   "source": [
    "The \"banana\" shape, and the high correlation between the normalization and index, is due to the pivot energy value being far from optimal. Try running this notebook again with value closer to COSI's \"sweet spot\"."
   ]
  }
 ],
 "metadata": {
  "kernelspec": {
   "display_name": "Python 3 (ipykernel)",
   "language": "python",
   "name": "python3"
  },
  "language_info": {
   "codemirror_mode": {
    "name": "ipython",
    "version": 3
   },
   "file_extension": ".py",
   "mimetype": "text/x-python",
   "name": "python",
   "nbconvert_exporter": "python",
   "pygments_lexer": "ipython3",
   "version": "3.9.6"
  }
 },
 "nbformat": 4,
 "nbformat_minor": 5
}
